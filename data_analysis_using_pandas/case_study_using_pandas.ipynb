{
 "cells": [
  {
   "cell_type": "markdown",
   "id": "69abf57b",
   "metadata": {},
   "source": [
    "# Problem Statement:\n",
    "\n",
    "- The Most Dangerous city in Jammu and Kashmir and the terrorist group which is most active in that city?\n",
    "\n",
    "- Print count of number of attacks in that city as integer value.\n",
    "\n",
    "# Note:\n",
    "\n",
    "- Ignoring the Unknown Terrorist Group. Here Dangerous related with the number of terrorist attacks.\n",
    "\n",
    "- Output Format:\n",
    "\n",
    "  City: NumberOfAttack Group"
   ]
  },
  {
   "cell_type": "code",
   "execution_count": 1,
   "id": "2fe64c80",
   "metadata": {},
   "outputs": [
    {
     "name": "stdout",
     "output_type": "stream",
     "text": [
      "City with the most attacks: Srinagar\n",
      "Total number of attacks : 351\n",
      "Most active terrorist group : Muslim Separatists\n"
     ]
    }
   ],
   "source": [
    "import pandas as pd\n",
    "terror = pd.read_csv(\"datasets/terrorismData.csv\")\n",
    "df = terror.copy()\n",
    "atck_no_dict = {}\n",
    "terr_group_dict = {}\n",
    "lst = df[(df.State == \"Jammu and Kashmir\") & (df.Group != \"Unknown\")]\n",
    "for var in lst.City:\n",
    "    if var in atck_no_dict:\n",
    "        atck_no_dict[var] += 1\n",
    "    else:\n",
    "        atck_no_dict[var] = 1\n",
    "most_danger = max(atck_no_dict, key=atck_no_dict.get)\n",
    "lst2 = lst[lst.City == most_danger]\n",
    "for var in lst2.Group:\n",
    "    if var in terr_group_dict:\n",
    "        terr_group_dict[var] += 1\n",
    "    else:\n",
    "        terr_group_dict[var] = 1\n",
    "most_active = max(terr_group_dict, key=terr_group_dict.get)\n",
    "print(\"City with the most attacks:\", most_danger)\n",
    "print(\"Total number of attacks :\", atck_no_dict[most_danger])\n",
    "print(\"Most active terrorist group :\",most_active)"
   ]
  },
  {
   "cell_type": "markdown",
   "id": "60b5378b",
   "metadata": {},
   "source": [
    "# Find out the Country with Highest Number of Terror Attack and in which year the most number of terrorist attack happened in that country?\n",
    "\n",
    "- Print count of terror attacks as integer value.\n",
    "\n",
    "- Output Format:\n",
    "\n",
    "  Country | NumberOfAttack | Year"
   ]
  },
  {
   "cell_type": "code",
   "execution_count": 2,
   "id": "0ac1816e",
   "metadata": {},
   "outputs": [
    {
     "name": "stdout",
     "output_type": "stream",
     "text": [
      "Country with most attack : Iraq\n",
      "Total No of attacks : 24636\n",
      "year with most no of attacks : 2014\n"
     ]
    }
   ],
   "source": [
    "import pandas as pd\n",
    "ter = pd.read_csv(\"datasets/terrorismData.csv\")\n",
    "tf = ter.copy()\n",
    "country = {}\n",
    "year = {}\n",
    "for var in tf.Country:\n",
    "    if var in country :\n",
    "        country[var] += 1\n",
    "    else:\n",
    "        country[var] = 1\n",
    "max_country = max(country,key = country.get)\n",
    "tf2 = tf[tf.Country == max_country]\n",
    "for var in tf2.Year:\n",
    "    if var in year:\n",
    "        year[var] += 1\n",
    "    else:\n",
    "        year[var] = 1\n",
    "max_year = max(year, key = year.get)\n",
    "print(\"Country with most attack :\",max_country)\n",
    "print(\"Total No of attacks :\",country[max_country])\n",
    "print(\"year with most no of attacks :\",max_year)"
   ]
  },
  {
   "cell_type": "markdown",
   "id": "1453faa2",
   "metadata": {},
   "source": [
    "# Country with most number of kills"
   ]
  },
  {
   "cell_type": "code",
   "execution_count": 19,
   "id": "02436b3d",
   "metadata": {},
   "outputs": [
    {
     "name": "stdout",
     "output_type": "stream",
     "text": [
      "Iraq 78589.0\n"
     ]
    }
   ],
   "source": [
    "import pandas as pd\n",
    "t_file = pd.read_csv(\"datasets/terrorismData.csv\")\n",
    "ds1 = t_file.copy()\n",
    "ds1.Killed.fillna(0)\n",
    "Kill_data = t_file.groupby('Country')['Killed'].sum()\n",
    "kill_dict = Kill_data.to_dict()\n",
    "# print(Kill_data)\n",
    "max_country = max(kill_dict, key = kill_dict.get)\n",
    "print(max_country,end=' ')\n",
    "print(kill_dict[max_country])"
   ]
  },
  {
   "cell_type": "code",
   "execution_count": 21,
   "id": "6ae223b4",
   "metadata": {},
   "outputs": [
    {
     "data": {
      "text/html": [
       "<div>\n",
       "<style scoped>\n",
       "    .dataframe tbody tr th:only-of-type {\n",
       "        vertical-align: middle;\n",
       "    }\n",
       "\n",
       "    .dataframe tbody tr th {\n",
       "        vertical-align: top;\n",
       "    }\n",
       "\n",
       "    .dataframe thead th {\n",
       "        text-align: right;\n",
       "    }\n",
       "</style>\n",
       "<table border=\"1\" class=\"dataframe\">\n",
       "  <thead>\n",
       "    <tr style=\"text-align: right;\">\n",
       "      <th></th>\n",
       "      <th>Country</th>\n",
       "      <th>Killed</th>\n",
       "      <th>Wounded</th>\n",
       "    </tr>\n",
       "  </thead>\n",
       "  <tbody>\n",
       "    <tr>\n",
       "      <th>0</th>\n",
       "      <td>Afghanistan</td>\n",
       "      <td>39384.0</td>\n",
       "      <td>44277.0</td>\n",
       "    </tr>\n",
       "    <tr>\n",
       "      <th>1</th>\n",
       "      <td>Albania</td>\n",
       "      <td>42.0</td>\n",
       "      <td>126.0</td>\n",
       "    </tr>\n",
       "    <tr>\n",
       "      <th>2</th>\n",
       "      <td>Algeria</td>\n",
       "      <td>11066.0</td>\n",
       "      <td>9150.0</td>\n",
       "    </tr>\n",
       "    <tr>\n",
       "      <th>3</th>\n",
       "      <td>Andorra</td>\n",
       "      <td>0.0</td>\n",
       "      <td>0.0</td>\n",
       "    </tr>\n",
       "  </tbody>\n",
       "</table>\n",
       "</div>"
      ],
      "text/plain": [
       "       Country   Killed  Wounded\n",
       "0  Afghanistan  39384.0  44277.0\n",
       "1      Albania     42.0    126.0\n",
       "2      Algeria  11066.0   9150.0\n",
       "3      Andorra      0.0      0.0"
      ]
     },
     "execution_count": 21,
     "metadata": {},
     "output_type": "execute_result"
    }
   ],
   "source": [
    "import pandas as pd\n",
    "t_file = pd.read_csv(\"datasets/terrorismData.csv\")\n",
    "ds1 = t_file.copy()\n",
    "ds1.Killed.fillna(0)\n",
    "ds1.Wounded.fillna(0)\n",
    "fea = ['Killed', 'Wounded']\n",
    "Kill_data = ds1.groupby('Country')[fea].sum().reset_index()\n",
    "Kill_data.head(4)"
   ]
  },
  {
   "cell_type": "markdown",
   "id": "fd1797b6",
   "metadata": {},
   "source": [
    "# Most Deadliest attack in a history of Humankind?\n",
    "\n",
    "- Print count of Killed people as integer value.\n",
    "\n",
    "# Note: \n",
    "Here Deadliest attack means, in which the most number of people killed.\n",
    "\n",
    "- Output Format:\n",
    "\n",
    "  NumberOfPeopleKilled | Country | TerroristGroup"
   ]
  },
  {
   "cell_type": "code",
   "execution_count": 20,
   "id": "c24ddca3",
   "metadata": {},
   "outputs": [
    {
     "name": "stdout",
     "output_type": "stream",
     "text": [
      "People Killed : 1570.0\n",
      "Country : Iraq\n",
      "Terrorist Group : Islamic State of Iraq and the Levant (ISIL)\n"
     ]
    }
   ],
   "source": [
    "import pandas as pd \n",
    "terr = pd.read_csv(\"datasets/terrorismData.csv\")\n",
    "max_ind = terr.Killed.idxmax()\n",
    "most_danger = terr.loc[max_ind].to_dict()\n",
    "print(\"People Killed :\",most_danger[\"Killed\"])\n",
    "print(\"Country :\",most_danger[\"Country\"])\n",
    "print(\"Terrorist Group :\",most_danger[\"Group\"])"
   ]
  },
  {
   "cell_type": "markdown",
   "id": "a2d95ae1",
   "metadata": {},
   "source": [
    "# There was formation of new government in India on 26 May 2014. So current government's span is from 26th May 2014 to current. Find out two things from this period-\n",
    "\n",
    "- Total number of attacks done in this period in India. Find this count as integer.\n",
    "\n",
    "- Which Terrorist group was most active in this period in India. Most active means, group which has done maximum number of attacks.\n",
    "\n",
    "- Ignore the Unknown group.\n",
    "\n",
    "- Output Format:\n",
    "\n",
    "  TotalAttacks\tMostActive TerroristGroup"
   ]
  },
  {
   "cell_type": "code",
   "execution_count": 18,
   "id": "279974b8",
   "metadata": {},
   "outputs": [
    {
     "name": "stdout",
     "output_type": "stream",
     "text": [
      "Total no. of attacks : 2057\n",
      "Most active Group : Maoists\n"
     ]
    },
    {
     "name": "stderr",
     "output_type": "stream",
     "text": [
      "C:\\Users\\rohit\\AppData\\Local\\Temp\\ipykernel_17144\\1429743915.py:4: SettingWithCopyWarning: \n",
      "A value is trying to be set on a copy of a slice from a DataFrame.\n",
      "Try using .loc[row_indexer,col_indexer] = value instead\n",
      "\n",
      "See the caveats in the documentation: https://pandas.pydata.org/pandas-docs/stable/user_guide/indexing.html#returning-a-view-versus-a-copy\n",
      "  df_ind['date_time'] = pd.to_datetime(df_ind[['Year','Month','Day']])\n"
     ]
    }
   ],
   "source": [
    "import pandas as pd\n",
    "ind = pd.read_csv(\"datasets/terrorismData.csv\")\n",
    "df_ind = ind[(ind.Group != \"Unknown\") & (ind.Country == \"India\") & (ind.Day != 0)]\n",
    "df_ind['date_time'] = pd.to_datetime(df_ind[['Year','Month','Day']])\n",
    "specific_date = pd.to_datetime('2014-5-26')\n",
    "df_ind2 = df_ind[df_ind['date_time'] >= specific_date]\n",
    "count = df_ind2.shape[0]\n",
    "dict_terr = {}\n",
    "for var in df_ind2['Group']:\n",
    "    if var in dict_terr:\n",
    "        dict_terr[var] += 1\n",
    "    else:\n",
    "        dict_terr[var] = 1\n",
    "max_terr = max(dict_terr,key = dict_terr.get)\n",
    "print(\"Total no. of attacks :\", count)\n",
    "print(\"Most active Group :\", max_terr)"
   ]
  },
  {
   "cell_type": "code",
   "execution_count": null,
   "id": "cca188ba",
   "metadata": {},
   "outputs": [],
   "source": []
  }
 ],
 "metadata": {
  "kernelspec": {
   "display_name": "Python 3 (ipykernel)",
   "language": "python",
   "name": "python3"
  },
  "language_info": {
   "codemirror_mode": {
    "name": "ipython",
    "version": 3
   },
   "file_extension": ".py",
   "mimetype": "text/x-python",
   "name": "python",
   "nbconvert_exporter": "python",
   "pygments_lexer": "ipython3",
   "version": "3.11.9"
  }
 },
 "nbformat": 4,
 "nbformat_minor": 5
}
