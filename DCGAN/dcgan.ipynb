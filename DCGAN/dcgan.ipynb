{
 "cells": [
  {
   "cell_type": "code",
   "execution_count": 1,
   "metadata": {},
   "outputs": [],
   "source": [
    "import torch\n",
    "import torch.nn as nn \n",
    "import numpy as np\n",
    "import torchvision\n",
    "from torchvision.utils import make_grid\n",
    "from tqdm import tqdm\n",
    "from torch.optim import Adam\n",
    "import torch.nn.functional as F\n",
    "from torch.utils.data import DataLoader, Dataset, TensorDataset\n",
    "import os"
   ]
  },
  {
   "cell_type": "code",
   "execution_count": 2,
   "metadata": {},
   "outputs": [],
   "source": [
    "from sklearn.datasets import fetch_openml\n",
    "\n",
    "mnist = fetch_openml('mnist_784',version=1,as_frame=False)"
   ]
  },
  {
   "cell_type": "code",
   "execution_count": 4,
   "metadata": {},
   "outputs": [],
   "source": [
    "x_train = torch.tensor(mnist.data.reshape(-1,1,28,28))\n",
    "x_train = (x_train / 255.0)*2 - 1\n",
    "y_train = torch.tensor(mnist.target.astype(np.int64))"
   ]
  },
  {
   "cell_type": "code",
   "execution_count": 5,
   "metadata": {},
   "outputs": [],
   "source": [
    "device = torch.device('cuda' if torch.cuda.is_available() else 'cpu')"
   ]
  },
  {
   "cell_type": "code",
   "execution_count": 6,
   "metadata": {},
   "outputs": [],
   "source": [
    "class Generator(nn.Module):\n",
    "    def __init__(self,latent_dim,im_size, im_channels,conv_channels,kernels,strides,paddings,out_paddings):\n",
    "        super().__init__()\n",
    "        self.latent_dim = latent_dim\n",
    "        self.im_size = im_size\n",
    "        self.im_channels = im_channels\n",
    "        activation = nn.ReLU()\n",
    "        layers_channel_dim = [self.latent_dim] + conv_channels + [self.im_channels]\n",
    "        self.layers = nn.ModuleList([\n",
    "            nn.Sequential(\n",
    "                nn.ConvTranspose2d(in_channels=layers_channel_dim[i],out_channels=layers_channel_dim[i+1],\n",
    "                                   kernel_size = kernels[i],\n",
    "                                   stride = strides[i],\n",
    "                                   padding = paddings[i],\n",
    "                                   output_padding = out_paddings[i],\n",
    "                                   bias = False \n",
    "                                   ),\n",
    "                nn.BatchNorm2d(layers_channel_dim[i+1]) if i != len(layers_channel_dim) - 2 else nn.Identity(),\n",
    "                activation if i != len(layers_channel_dim) - 2 else nn.Tanh()     \n",
    "            )\n",
    "            for i in range(len(layers_channel_dim)-1)\n",
    "        ])\n",
    "\n",
    "    def forward(self, z):\n",
    "        out = z.reshape(-1,self.latent_dim,1,1)\n",
    "        for layer in self.layers:\n",
    "            out = layer(out)\n",
    "        # out.reshape(-1,self.im_channels,self.im_size,self.im_size)\n",
    "        return out\n",
    "\n"
   ]
  },
  {
   "cell_type": "code",
   "execution_count": 7,
   "metadata": {},
   "outputs": [],
   "source": [
    "class Discriminator(nn.Module):\n",
    "    def __init__(self, im_size, im_channels, conv_channels, kernels, strides, paddings):\n",
    "        super().__init__()\n",
    "        self.im_size = im_size\n",
    "        self.im_channels = im_channels\n",
    "        self.conv_channels = [self.im_channels] + conv_channels + [1]\n",
    "        activation = nn.LeakyReLU()\n",
    "        self.layers = nn.ModuleList([\n",
    "            nn.Sequential(\n",
    "                nn.Conv2d(in_channels=self.conv_channels[i],out_channels=self.conv_channels[i+1],\n",
    "                kernel_size = kernels[i],\n",
    "                stride = strides[i],\n",
    "                padding = paddings[i],\n",
    "                padding_mode = 'reflect',\n",
    "                bias = False\n",
    "                ),\n",
    "                nn.BatchNorm2d(self.conv_channels[i+1]) if i != len(self.conv_channels) - 2 and i != 0 else nn.Identity(),\n",
    "                activation if i != len(self.conv_channels) - 2 else nn.Identity()\n",
    "            ) \n",
    "            for i in range(len(self.conv_channels) - 1)\n",
    "        ])\n",
    "\n",
    "    def forward(self,gen_out):\n",
    "        out = gen_out.reshape(-1,self.im_channels,self.im_size,self.im_size)\n",
    "        for layer in self.layers:\n",
    "            out = layer(out)\n",
    "        \n",
    "        out = out.reshape(-1)\n",
    "        return out\n",
    "\n"
   ]
  },
  {
   "cell_type": "code",
   "execution_count": 8,
   "metadata": {},
   "outputs": [],
   "source": [
    "im_channels = 1\n",
    "latent_dim = 64\n",
    "im_size = 28\n",
    "\n",
    "#for generator\n",
    "gen_conv_channels = [2048,1024,512]\n",
    "gen_in_paddings = [0,1,1,0]\n",
    "gen_out_paddings = [0,1,0,0]\n",
    "gen_kernels = [3,4,4,2]\n",
    "gen_strides = [1,2,2,2]\n",
    "\n",
    "#for discriminator\n",
    "dis_conv_channels = [1024,512,256]\n",
    "dis_paddings = [1,1,0,0]\n",
    "dis_kernels = [4,4,3,3]\n",
    "dis_strides = [2,2,2,1]\n",
    "\n"
   ]
  },
  {
   "cell_type": "code",
   "execution_count": 9,
   "metadata": {},
   "outputs": [],
   "source": [
    "generator = Generator(latent_dim=latent_dim,im_size=im_size,im_channels=1,conv_channels=gen_conv_channels,kernels=gen_kernels,strides=gen_strides,paddings=gen_in_paddings,out_paddings=gen_out_paddings)"
   ]
  },
  {
   "cell_type": "code",
   "execution_count": 10,
   "metadata": {},
   "outputs": [],
   "source": [
    "discriminator = Discriminator(im_size=im_size,im_channels=im_channels,conv_channels=dis_conv_channels,paddings=dis_paddings,kernels=dis_kernels,strides=dis_strides)"
   ]
  },
  {
   "cell_type": "code",
   "execution_count": 16,
   "metadata": {},
   "outputs": [],
   "source": [
    "def infer(generated_sample_count,generator):\n",
    "    fake_im_noise = torch.rand((625,latent_dim),device=device)\n",
    "    fake_ims = generator(fake_im_noise)\n",
    "    fake_ims = (fake_ims + 1)/ 2\n",
    "    fake_ims = fake_ims.detach().cpu()\n",
    "    grid = make_grid(fake_ims,nrow=25)\n",
    "    img = torchvision.transforms.ToPILImage()(grid)\n",
    "    if not os.path.exists('samples'):\n",
    "        os.makedirs('samples')\n",
    "    img.save('samples/{}.png'.format(generated_sample_count))"
   ]
  },
  {
   "cell_type": "code",
   "execution_count": 17,
   "metadata": {},
   "outputs": [],
   "source": [
    "# training function for this dcgan\n",
    "def train(generator,discriminator,x_train,y_train,mini_batch_size,epochs):\n",
    "    mnist_data = TensorDataset(x_train,y_train)\n",
    "    data_loader = DataLoader(mnist_data,batch_size=mini_batch_size,shuffle=True)\n",
    "\n",
    "    generator.to(device)\n",
    "    generator.train()\n",
    "\n",
    "    discriminator.to(device)\n",
    "    discriminator.train()\n",
    "\n",
    "    optim_gen = Adam(generator.parameters(),lr=1E-4, betas=(0.5,0.999))\n",
    "    optim_dis = Adam(discriminator.parameters(),lr=1E-4, betas=(0.5,0.999))\n",
    "\n",
    "    loss_func = nn.BCEWithLogitsLoss()\n",
    "\n",
    "    steps = 0\n",
    "    generated_sample_count = 0\n",
    "\n",
    "    for i in range(epochs):\n",
    "        print(\"Epoch no - \",i+1,\"/\",epochs)\n",
    "        for imgs,labels in tqdm(data_loader):\n",
    "            real_imgs = imgs.float().to(device)\n",
    "            data_batch_size = real_imgs.shape[0]\n",
    "\n",
    "\n",
    "            #updating the discriminator params with respect to calculated loss\n",
    "            optim_dis.zero_grad()\n",
    "            latent_noise = torch.randn((data_batch_size,latent_dim),device=device)\n",
    "            fake_imgs = generator(latent_noise)\n",
    "            real_labels = torch.ones((data_batch_size,1),device=device)\n",
    "            fake_labels = torch.zeros((data_batch_size,1),device=device)\n",
    "            real_im_pred = discriminator(real_imgs)\n",
    "            fake_im_pred = discriminator(fake_imgs.detach()) #to stop gradient updates for generator here\n",
    "            loss_real_dis = loss_func(real_im_pred.reshape(-1),real_labels.reshape(-1))\n",
    "            loss_fake_dis = loss_func(fake_im_pred.reshape(-1),fake_labels.reshape(-1))\n",
    "            total_loss = (loss_real_dis  + loss_fake_dis)/2\n",
    "            total_loss.backward()\n",
    "            optim_dis.step()\n",
    "\n",
    "            #updating the generator params by foolingthe discriminator\n",
    "            optim_gen.zero_grad()\n",
    "            latent_noise = torch.randn((data_batch_size,latent_dim),device=device)\n",
    "            fake_imgs = generator(latent_noise)\n",
    "            disc_fake_pred = discriminator(fake_imgs)\n",
    "            loss_gen = loss_func(disc_fake_pred.reshape(-1),real_labels.reshape(-1))\n",
    "            loss_gen.backward()\n",
    "            optim_gen.step()\n",
    "\n",
    "\n",
    "            if (steps % 300) == 0:\n",
    "                with torch.no_grad():\n",
    "                    generator.eval() # switch the generator to evaluation mode\n",
    "                    infer(generated_sample_count,generator)\n",
    "                    generated_sample_count += 1\n",
    "                    generator.train() # again switched to training mode\n",
    "            steps += 1\n",
    "\n",
    "                \n",
    "        torch.save(generator.state_dict(),'generator_ckpt.pth')\n",
    "        torch.save(discriminator.state_dict(),'discriminator_ckpt.pth')\n",
    "\n",
    "    print('Done Training.....')\n"
   ]
  },
  {
   "cell_type": "code",
   "execution_count": 14,
   "metadata": {},
   "outputs": [
    {
     "data": {
      "text/plain": [
       "<All keys matched successfully>"
      ]
     },
     "execution_count": 14,
     "metadata": {},
     "output_type": "execute_result"
    }
   ],
   "source": [
    "generator.load_state_dict(torch.load('generator_ckpt.pth',weights_only=True))\n",
    "discriminator.load_state_dict(torch.load('discriminator_ckpt.pth',weights_only=True))"
   ]
  },
  {
   "cell_type": "code",
   "execution_count": 18,
   "metadata": {},
   "outputs": [
    {
     "name": "stdout",
     "output_type": "stream",
     "text": [
      "Epoch no -  1 / 5\n"
     ]
    },
    {
     "name": "stderr",
     "output_type": "stream",
     "text": [
      "100%|██████████| 1094/1094 [05:25<00:00,  3.37it/s]\n"
     ]
    },
    {
     "name": "stdout",
     "output_type": "stream",
     "text": [
      "Epoch no -  2 / 5\n"
     ]
    },
    {
     "name": "stderr",
     "output_type": "stream",
     "text": [
      "100%|██████████| 1094/1094 [06:00<00:00,  3.03it/s]\n"
     ]
    },
    {
     "name": "stdout",
     "output_type": "stream",
     "text": [
      "Epoch no -  3 / 5\n"
     ]
    },
    {
     "name": "stderr",
     "output_type": "stream",
     "text": [
      "100%|██████████| 1094/1094 [06:16<00:00,  2.91it/s]\n"
     ]
    },
    {
     "name": "stdout",
     "output_type": "stream",
     "text": [
      "Epoch no -  4 / 5\n"
     ]
    },
    {
     "name": "stderr",
     "output_type": "stream",
     "text": [
      "100%|██████████| 1094/1094 [06:21<00:00,  2.86it/s]\n"
     ]
    },
    {
     "name": "stdout",
     "output_type": "stream",
     "text": [
      "Epoch no -  5 / 5\n"
     ]
    },
    {
     "name": "stderr",
     "output_type": "stream",
     "text": [
      "100%|██████████| 1094/1094 [06:09<00:00,  2.96it/s]\n"
     ]
    },
    {
     "name": "stdout",
     "output_type": "stream",
     "text": [
      "Done Training.....\n"
     ]
    }
   ],
   "source": [
    "train(generator=generator,discriminator=discriminator,x_train=x_train,y_train=y_train,mini_batch_size=64,epochs=5)"
   ]
  },
  {
   "cell_type": "code",
   "execution_count": 56,
   "metadata": {},
   "outputs": [
    {
     "data": {
      "text/plain": [
       "<matplotlib.image.AxesImage at 0x25fcc759350>"
      ]
     },
     "execution_count": 56,
     "metadata": {},
     "output_type": "execute_result"
    },
    {
     "data": {
      "image/png": "[encoded data removed]",
      "text/plain": [
       "<Figure size 640x480 with 1 Axes>"
      ]
     },
     "metadata": {},
     "output_type": "display_data"
    }
   ],
   "source": [
    "import matplotlib.pyplot as plt\n",
    "in_x = torch.randn((1,64),device=device)\n",
    "op = generator(in_x) \n",
    "op2 = (op+1)/2\n",
    "op2 = op2.detach().cpu()\n",
    "plt.imshow(op2[0].permute(1, 2, 0))\n"
   ]
  },
  {
   "cell_type": "code",
   "execution_count": null,
   "metadata": {},
   "outputs": [
    {
     "data": {
      "text/plain": [
       "<matplotlib.image.AxesImage at 0x25fcbd229d0>"
      ]
     },
     "execution_count": 49,
     "metadata": {},
     "output_type": "execute_result"
    },
    {
     "data": {
      "image/png": "[encoded data removed]",
      "text/plain": [
       "<Figure size 640x480 with 1 Axes>"
      ]
     },
     "metadata": {},
     "output_type": "display_data"
    }
   ],
   "source": []
  }
 ],
 "metadata": {
  "kernelspec": {
   "display_name": "py311torch",
   "language": "python",
   "name": "python3"
  },
  "language_info": {
   "codemirror_mode": {
    "name": "ipython",
    "version": 3
   },
   "file_extension": ".py",
   "mimetype": "text/x-python",
   "name": "python",
   "nbconvert_exporter": "python",
   "pygments_lexer": "ipython3",
   "version": "3.11.9"
  }
 },
 "nbformat": 4,
 "nbformat_minor": 2
}
