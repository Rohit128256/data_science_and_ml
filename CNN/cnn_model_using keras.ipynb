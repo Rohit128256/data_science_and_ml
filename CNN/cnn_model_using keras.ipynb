{
 "cells": [
  {
   "cell_type": "code",
   "execution_count": 2,
   "metadata": {},
   "outputs": [],
   "source": [
    "import tensorflow as tf\n",
    "tf.compat.v1.disable_eager_execution()\n",
    "from tensorflow.keras.models import Sequential\n",
    "from tensorflow.keras.layers import Dense\n",
    "from tensorflow.keras.layers import Conv2D\n",
    "from tensorflow.keras.layers import MaxPool2D\n",
    "from tensorflow.keras.layers import Dropout\n",
    "from tensorflow.keras.layers import Flatten"
   ]
  },
  {
   "cell_type": "code",
   "execution_count": 3,
   "metadata": {},
   "outputs": [
    {
     "name": "stdout",
     "output_type": "stream",
     "text": [
      "Model: \"sequential\"\n",
      "_________________________________________________________________\n",
      " Layer (type)                Output Shape              Param #   \n",
      "=================================================================\n",
      " conv2d (Conv2D)             (None, 28, 28, 32)        832       \n",
      "                                                                 \n",
      " max_pooling2d (MaxPooling2D  (None, 14, 14, 32)       0         \n",
      " )                                                               \n",
      "                                                                 \n",
      " conv2d_1 (Conv2D)           (None, 14, 14, 64)        51264     \n",
      "                                                                 \n",
      " max_pooling2d_1 (MaxPooling  (None, 7, 7, 64)         0         \n",
      " 2D)                                                             \n",
      "                                                                 \n",
      " flatten (Flatten)           (None, 3136)              0         \n",
      "                                                                 \n",
      " dense (Dense)               (None, 1024)              3212288   \n",
      "                                                                 \n",
      " dense_1 (Dense)             (None, 10)                10250     \n",
      "                                                                 \n",
      "=================================================================\n",
      "Total params: 3,274,634\n",
      "Trainable params: 3,274,634\n",
      "Non-trainable params: 0\n",
      "_________________________________________________________________\n"
     ]
    }
   ],
   "source": [
    "# Defining the model \n",
    "model = Sequential()\n",
    "model.add(Conv2D(filters = 32,kernel_size=(5,5),strides=(1,1),padding='same',activation='relu',input_shape=(28,28,1)))\n",
    "model.add(MaxPool2D(pool_size=(2,2),strides=(2,2)))\n",
    "model.add(Conv2D(filters = 64,kernel_size=(5,5),strides=(1,1),padding='same',activation='relu'))\n",
    "model.add(MaxPool2D(pool_size=(2,2),strides=(2,2)))\n",
    "model.add(Flatten())\n",
    "model.add(Dense(units=1024,activation='relu'))\n",
    "model.add(Dense(units=10,activation='sigmoid'))\n",
    "model.summary()"
   ]
  },
  {
   "cell_type": "code",
   "execution_count": 4,
   "metadata": {},
   "outputs": [
    {
     "data": {
      "text/plain": [
       "((60000, 28, 28, 1), (10000, 28, 28, 1))"
      ]
     },
     "execution_count": 4,
     "metadata": {},
     "output_type": "execute_result"
    }
   ],
   "source": [
    "from tensorflow.keras.datasets import mnist\n",
    "(x_train,y_train), (x_test,y_test) = mnist.load_data()\n",
    "y_train = tf.keras.utils.to_categorical(y_train,10)\n",
    "y_test = tf.keras.utils.to_categorical(y_test,10)\n",
    "x_train = x_train.reshape(-1,28,28,1)\n",
    "x_test = x_test.reshape(-1,28,28,1)\n",
    "x_train.shape , x_test.shape"
   ]
  },
  {
   "cell_type": "code",
   "execution_count": 5,
   "metadata": {},
   "outputs": [],
   "source": [
    "model.compile(optimizer='adam',loss='binary_crossentropy',metrics=['accuracy'])"
   ]
  },
  {
   "cell_type": "code",
   "execution_count": 6,
   "metadata": {},
   "outputs": [
    {
     "name": "stdout",
     "output_type": "stream",
     "text": [
      "Train on 60000 samples\n",
      "Epoch 1/25\n",
      "60000/60000 [==============================] - 8s 139us/sample - loss: 0.2795 - accuracy: 0.9782\n",
      "Epoch 2/25\n",
      "60000/60000 [==============================] - 4s 69us/sample - loss: 0.0117 - accuracy: 0.9961\n",
      "Epoch 3/25\n",
      "60000/60000 [==============================] - 4s 68us/sample - loss: 0.0070 - accuracy: 0.9977\n",
      "Epoch 4/25\n",
      "60000/60000 [==============================] - 4s 68us/sample - loss: 0.0050 - accuracy: 0.9984\n",
      "Epoch 5/25\n",
      "60000/60000 [==============================] - 4s 74us/sample - loss: 0.0034 - accuracy: 0.9989\n",
      "Epoch 6/25\n",
      "60000/60000 [==============================] - 5s 76us/sample - loss: 0.0025 - accuracy: 0.9992\n",
      "Epoch 7/25\n",
      "60000/60000 [==============================] - 5s 79us/sample - loss: 0.0021 - accuracy: 0.9993\n",
      "Epoch 8/25\n",
      "60000/60000 [==============================] - 5s 84us/sample - loss: 0.0020 - accuracy: 0.9993\n",
      "Epoch 9/25\n",
      "60000/60000 [==============================] - 5s 82us/sample - loss: 0.0024 - accuracy: 0.9991\n",
      "Epoch 10/25\n",
      "60000/60000 [==============================] - 5s 90us/sample - loss: 0.0016 - accuracy: 0.9994\n",
      "Epoch 11/25\n",
      "60000/60000 [==============================] - 5s 90us/sample - loss: 0.0014 - accuracy: 0.9995\n",
      "Epoch 12/25\n",
      "60000/60000 [==============================] - 5s 91us/sample - loss: 0.0015 - accuracy: 0.9995\n",
      "Epoch 13/25\n",
      "60000/60000 [==============================] - 6s 97us/sample - loss: 0.0012 - accuracy: 0.9996\n",
      "Epoch 14/25\n",
      "60000/60000 [==============================] - 6s 97us/sample - loss: 0.0020 - accuracy: 0.9994\n",
      "Epoch 15/25\n",
      "60000/60000 [==============================] - 6s 97us/sample - loss: 0.0018 - accuracy: 0.9995\n",
      "Epoch 16/25\n",
      "60000/60000 [==============================] - 6s 97us/sample - loss: 0.0011 - accuracy: 0.9996\n",
      "Epoch 17/25\n",
      "60000/60000 [==============================] - 6s 97us/sample - loss: 0.0014 - accuracy: 0.9995\n",
      "Epoch 18/25\n",
      "60000/60000 [==============================] - 6s 97us/sample - loss: 0.0023 - accuracy: 0.9993\n",
      "Epoch 19/25\n",
      "60000/60000 [==============================] - 6s 98us/sample - loss: 0.0015 - accuracy: 0.9995\n",
      "Epoch 20/25\n",
      "60000/60000 [==============================] - 6s 98us/sample - loss: 0.0019 - accuracy: 0.9994\n",
      "Epoch 21/25\n",
      "60000/60000 [==============================] - 6s 98us/sample - loss: 0.0013 - accuracy: 0.9996\n",
      "Epoch 22/25\n",
      "60000/60000 [==============================] - 6s 98us/sample - loss: 0.0016 - accuracy: 0.9995\n",
      "Epoch 23/25\n",
      "60000/60000 [==============================] - 6s 104us/sample - loss: 8.7584e-04 - accuracy: 0.9997\n",
      "Epoch 24/25\n",
      "60000/60000 [==============================] - 7s 114us/sample - loss: 0.0022 - accuracy: 0.9994\n",
      "Epoch 25/25\n",
      "60000/60000 [==============================] - 7s 115us/sample - loss: 0.0019 - accuracy: 0.9994\n"
     ]
    },
    {
     "data": {
      "text/plain": [
       "<keras.callbacks.History at 0x264e4683670>"
      ]
     },
     "execution_count": 6,
     "metadata": {},
     "output_type": "execute_result"
    }
   ],
   "source": [
    "model.fit(x_train,y_train,epochs=25,batch_size=200)"
   ]
  },
  {
   "cell_type": "code",
   "execution_count": 7,
   "metadata": {},
   "outputs": [
    {
     "name": "stderr",
     "output_type": "stream",
     "text": [
      "c:\\Users\\rohit\\anaconda3\\envs\\py310\\lib\\site-packages\\keras\\engine\\training_v1.py:2332: UserWarning: `Model.state_updates` will be removed in a future version. This property should not be used in TensorFlow 2.0, as `updates` are applied automatically.\n",
      "  updates = self.state_updates\n"
     ]
    }
   ],
   "source": [
    "result = model.evaluate(x_test,y_test)"
   ]
  },
  {
   "cell_type": "code",
   "execution_count": 9,
   "metadata": {},
   "outputs": [
    {
     "name": "stdout",
     "output_type": "stream",
     "text": [
      "the accuracy on test data is  99.7569739818573  percent.\n"
     ]
    }
   ],
   "source": [
    "accuracy = result[1]\n",
    "print(\"the accuracy on test data is \",accuracy*100,\" percent.\")"
   ]
  }
 ],
 "metadata": {
  "kernelspec": {
   "display_name": "py310",
   "language": "python",
   "name": "python3"
  },
  "language_info": {
   "codemirror_mode": {
    "name": "ipython",
    "version": 3
   },
   "file_extension": ".py",
   "mimetype": "text/x-python",
   "name": "python",
   "nbconvert_exporter": "python",
   "pygments_lexer": "ipython3",
   "version": "3.10.14"
  }
 },
 "nbformat": 4,
 "nbformat_minor": 2
}
