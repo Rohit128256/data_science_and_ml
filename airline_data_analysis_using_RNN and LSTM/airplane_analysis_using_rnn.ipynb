{
 "cells": [
  {
   "cell_type": "code",
   "execution_count": 1,
   "metadata": {},
   "outputs": [
    {
     "data": {
      "text/html": [
       "<div>\n",
       "<style scoped>\n",
       "    .dataframe tbody tr th:only-of-type {\n",
       "        vertical-align: middle;\n",
       "    }\n",
       "\n",
       "    .dataframe tbody tr th {\n",
       "        vertical-align: top;\n",
       "    }\n",
       "\n",
       "    .dataframe thead th {\n",
       "        text-align: right;\n",
       "    }\n",
       "</style>\n",
       "<table border=\"1\" class=\"dataframe\">\n",
       "  <thead>\n",
       "    <tr style=\"text-align: right;\">\n",
       "      <th></th>\n",
       "      <th>Month</th>\n",
       "      <th>International airline passengers: monthly totals in thousands. Jan 49 ? Dec 60</th>\n",
       "    </tr>\n",
       "  </thead>\n",
       "  <tbody>\n",
       "    <tr>\n",
       "      <th>0</th>\n",
       "      <td>1949-01</td>\n",
       "      <td>112</td>\n",
       "    </tr>\n",
       "    <tr>\n",
       "      <th>1</th>\n",
       "      <td>1949-02</td>\n",
       "      <td>118</td>\n",
       "    </tr>\n",
       "    <tr>\n",
       "      <th>2</th>\n",
       "      <td>1949-03</td>\n",
       "      <td>132</td>\n",
       "    </tr>\n",
       "    <tr>\n",
       "      <th>3</th>\n",
       "      <td>1949-04</td>\n",
       "      <td>129</td>\n",
       "    </tr>\n",
       "    <tr>\n",
       "      <th>4</th>\n",
       "      <td>1949-05</td>\n",
       "      <td>121</td>\n",
       "    </tr>\n",
       "    <tr>\n",
       "      <th>...</th>\n",
       "      <td>...</td>\n",
       "      <td>...</td>\n",
       "    </tr>\n",
       "    <tr>\n",
       "      <th>139</th>\n",
       "      <td>1960-08</td>\n",
       "      <td>606</td>\n",
       "    </tr>\n",
       "    <tr>\n",
       "      <th>140</th>\n",
       "      <td>1960-09</td>\n",
       "      <td>508</td>\n",
       "    </tr>\n",
       "    <tr>\n",
       "      <th>141</th>\n",
       "      <td>1960-10</td>\n",
       "      <td>461</td>\n",
       "    </tr>\n",
       "    <tr>\n",
       "      <th>142</th>\n",
       "      <td>1960-11</td>\n",
       "      <td>390</td>\n",
       "    </tr>\n",
       "    <tr>\n",
       "      <th>143</th>\n",
       "      <td>1960-12</td>\n",
       "      <td>432</td>\n",
       "    </tr>\n",
       "  </tbody>\n",
       "</table>\n",
       "<p>144 rows × 2 columns</p>\n",
       "</div>"
      ],
      "text/plain": [
       "       Month  \\\n",
       "0    1949-01   \n",
       "1    1949-02   \n",
       "2    1949-03   \n",
       "3    1949-04   \n",
       "4    1949-05   \n",
       "..       ...   \n",
       "139  1960-08   \n",
       "140  1960-09   \n",
       "141  1960-10   \n",
       "142  1960-11   \n",
       "143  1960-12   \n",
       "\n",
       "     International airline passengers: monthly totals in thousands. Jan 49 ? Dec 60  \n",
       "0                                                  112                               \n",
       "1                                                  118                               \n",
       "2                                                  132                               \n",
       "3                                                  129                               \n",
       "4                                                  121                               \n",
       "..                                                 ...                               \n",
       "139                                                606                               \n",
       "140                                                508                               \n",
       "141                                                461                               \n",
       "142                                                390                               \n",
       "143                                                432                               \n",
       "\n",
       "[144 rows x 2 columns]"
      ]
     },
     "execution_count": 1,
     "metadata": {},
     "output_type": "execute_result"
    }
   ],
   "source": [
    "import tensorflow as tf \n",
    "import pandas as pd \n",
    "import numpy as np \n",
    "df = pd.read_csv(r'D:\\Study Materials\\[Coding Ninjas] Machine Learning and Data Science\\[Coding Ninjas] Machine Learning and Data Science\\50. RNN\\12.1 Preparing Data For RNN\\international-airline-passengers.csv')\n",
    "df"
   ]
  },
  {
   "cell_type": "code",
   "execution_count": 2,
   "metadata": {},
   "outputs": [],
   "source": [
    "df.drop('Month',axis=1,inplace=True)"
   ]
  },
  {
   "cell_type": "code",
   "execution_count": 3,
   "metadata": {},
   "outputs": [
    {
     "data": {
      "text/plain": [
       "(144, 1)"
      ]
     },
     "execution_count": 3,
     "metadata": {},
     "output_type": "execute_result"
    }
   ],
   "source": [
    "values = df.values.astype('float32')\n",
    "values.shape"
   ]
  },
  {
   "cell_type": "code",
   "execution_count": 4,
   "metadata": {},
   "outputs": [],
   "source": [
    "train_size = int(values.shape[0]*0.67)\n",
    "test_size = values.shape[0] - train_size\n",
    "train = values[:train_size]\n",
    "test = values[train_size:]"
   ]
  },
  {
   "cell_type": "code",
   "execution_count": 5,
   "metadata": {},
   "outputs": [],
   "source": [
    "from sklearn.preprocessing import MinMaxScaler\n",
    "scaler = MinMaxScaler(feature_range=(0,1))\n",
    "train = scaler.fit_transform(train)\n",
    "test = scaler.transform(test)"
   ]
  },
  {
   "cell_type": "code",
   "execution_count": 6,
   "metadata": {},
   "outputs": [],
   "source": [
    "def create_datset(data,k):\n",
    "    datax, datay = [], []\n",
    "    for i in range(data.shape[0]-k):\n",
    "        x = data[i:i+k,0]\n",
    "        y = data[i+k,0]\n",
    "        datax.append(x)\n",
    "        datay.append(y)\n",
    "    return np.array(datax), np.array(datay)"
   ]
  },
  {
   "cell_type": "code",
   "execution_count": 7,
   "metadata": {},
   "outputs": [
    {
     "data": {
      "text/plain": [
       "((84, 12, 1), (84,))"
      ]
     },
     "execution_count": 7,
     "metadata": {},
     "output_type": "execute_result"
    }
   ],
   "source": [
    "look_back = 12\n",
    "train_x, train_y = create_datset(train,look_back)\n",
    "test_x, test_y = create_datset(test,look_back)\n",
    "train_x = train_x.reshape(train_x.shape[0],train_x.shape[1],1)\n",
    "test_x = test_x.reshape(test_x.shape[0],test_x.shape[1],1)\n",
    "train_x.shape, train_y.shape"
   ]
  },
  {
   "cell_type": "code",
   "execution_count": 8,
   "metadata": {},
   "outputs": [
    {
     "name": "stdout",
     "output_type": "stream",
     "text": [
      "Model: \"sequential\"\n",
      "_________________________________________________________________\n",
      " Layer (type)                Output Shape              Param #   \n",
      "=================================================================\n",
      " lstm (LSTM)                 (None, 100)               40800     \n",
      "                                                                 \n",
      " dense (Dense)               (None, 1)                 101       \n",
      "                                                                 \n",
      "=================================================================\n",
      "Total params: 40,901\n",
      "Trainable params: 40,901\n",
      "Non-trainable params: 0\n",
      "_________________________________________________________________\n"
     ]
    }
   ],
   "source": [
    "from tensorflow.keras.models import Sequential\n",
    "from tensorflow.keras.layers import SimpleRNN,Dense,LSTM\n",
    "model = Sequential()\n",
    "model.add(LSTM(100,input_shape=(look_back,1)))\n",
    "model.add(Dense(1))\n",
    "model.summary()"
   ]
  },
  {
   "cell_type": "code",
   "execution_count": 9,
   "metadata": {},
   "outputs": [],
   "source": [
    "model.compile(loss='mean_squared_error',optimizer='adam')"
   ]
  },
  {
   "cell_type": "code",
   "execution_count": 10,
   "metadata": {},
   "outputs": [
    {
     "name": "stdout",
     "output_type": "stream",
     "text": [
      "Epoch 1/150\n",
      "42/42 [==============================] - 24s 6ms/step - loss: 0.0365\n",
      "Epoch 2/150\n",
      "42/42 [==============================] - 0s 4ms/step - loss: 0.0133\n",
      "Epoch 3/150\n",
      "42/42 [==============================] - 0s 4ms/step - loss: 0.0128\n",
      "Epoch 4/150\n",
      "42/42 [==============================] - 0s 4ms/step - loss: 0.0174\n",
      "Epoch 5/150\n",
      "42/42 [==============================] - 0s 4ms/step - loss: 0.0117\n",
      "Epoch 6/150\n",
      "42/42 [==============================] - 0s 4ms/step - loss: 0.0136\n",
      "Epoch 7/150\n",
      "42/42 [==============================] - 0s 3ms/step - loss: 0.0131\n",
      "Epoch 8/150\n",
      "42/42 [==============================] - 0s 4ms/step - loss: 0.0105\n",
      "Epoch 9/150\n",
      "42/42 [==============================] - 0s 4ms/step - loss: 0.0110\n",
      "Epoch 10/150\n",
      "42/42 [==============================] - 0s 3ms/step - loss: 0.0108\n",
      "Epoch 11/150\n",
      "42/42 [==============================] - 0s 4ms/step - loss: 0.0104\n",
      "Epoch 12/150\n",
      "42/42 [==============================] - 0s 4ms/step - loss: 0.0090\n",
      "Epoch 13/150\n",
      "42/42 [==============================] - 0s 3ms/step - loss: 0.0063\n",
      "Epoch 14/150\n",
      "42/42 [==============================] - 0s 3ms/step - loss: 0.0067\n",
      "Epoch 15/150\n",
      "42/42 [==============================] - 0s 3ms/step - loss: 0.0089\n",
      "Epoch 16/150\n",
      "42/42 [==============================] - 0s 3ms/step - loss: 0.0068\n",
      "Epoch 17/150\n",
      "42/42 [==============================] - 0s 3ms/step - loss: 0.0069\n",
      "Epoch 18/150\n",
      "42/42 [==============================] - 0s 3ms/step - loss: 0.0038\n",
      "Epoch 19/150\n",
      "42/42 [==============================] - 0s 4ms/step - loss: 0.0047\n",
      "Epoch 20/150\n",
      "42/42 [==============================] - 0s 3ms/step - loss: 0.0042\n",
      "Epoch 21/150\n",
      "42/42 [==============================] - 0s 4ms/step - loss: 0.0042\n",
      "Epoch 22/150\n",
      "42/42 [==============================] - 0s 3ms/step - loss: 0.0051\n",
      "Epoch 23/150\n",
      "42/42 [==============================] - 0s 4ms/step - loss: 0.0044\n",
      "Epoch 24/150\n",
      "42/42 [==============================] - 0s 4ms/step - loss: 0.0049\n",
      "Epoch 25/150\n",
      "42/42 [==============================] - 0s 4ms/step - loss: 0.0050\n",
      "Epoch 26/150\n",
      "42/42 [==============================] - 0s 4ms/step - loss: 0.0038\n",
      "Epoch 27/150\n",
      "42/42 [==============================] - 0s 4ms/step - loss: 0.0046\n",
      "Epoch 28/150\n",
      "42/42 [==============================] - 0s 3ms/step - loss: 0.0047\n",
      "Epoch 29/150\n",
      "42/42 [==============================] - 0s 4ms/step - loss: 0.0044\n",
      "Epoch 30/150\n",
      "42/42 [==============================] - 0s 4ms/step - loss: 0.0041\n",
      "Epoch 31/150\n",
      "42/42 [==============================] - 0s 3ms/step - loss: 0.0036\n",
      "Epoch 32/150\n",
      "42/42 [==============================] - 0s 4ms/step - loss: 0.0038\n",
      "Epoch 33/150\n",
      "42/42 [==============================] - 0s 4ms/step - loss: 0.0054\n",
      "Epoch 34/150\n",
      "42/42 [==============================] - 0s 4ms/step - loss: 0.0038\n",
      "Epoch 35/150\n",
      "42/42 [==============================] - 0s 3ms/step - loss: 0.0052\n",
      "Epoch 36/150\n",
      "42/42 [==============================] - 0s 4ms/step - loss: 0.0036\n",
      "Epoch 37/150\n",
      "42/42 [==============================] - 0s 4ms/step - loss: 0.0043\n",
      "Epoch 38/150\n",
      "42/42 [==============================] - 0s 4ms/step - loss: 0.0038\n",
      "Epoch 39/150\n",
      "42/42 [==============================] - 0s 4ms/step - loss: 0.0033\n",
      "Epoch 40/150\n",
      "42/42 [==============================] - 0s 4ms/step - loss: 0.0032\n",
      "Epoch 41/150\n",
      "42/42 [==============================] - 0s 3ms/step - loss: 0.0035\n",
      "Epoch 42/150\n",
      "42/42 [==============================] - 0s 3ms/step - loss: 0.0041\n",
      "Epoch 43/150\n",
      "42/42 [==============================] - 0s 3ms/step - loss: 0.0040\n",
      "Epoch 44/150\n",
      "42/42 [==============================] - 0s 4ms/step - loss: 0.0032\n",
      "Epoch 45/150\n",
      "42/42 [==============================] - 0s 4ms/step - loss: 0.0032\n",
      "Epoch 46/150\n",
      "42/42 [==============================] - 0s 4ms/step - loss: 0.0033\n",
      "Epoch 47/150\n",
      "42/42 [==============================] - 0s 4ms/step - loss: 0.0032\n",
      "Epoch 48/150\n",
      "42/42 [==============================] - 0s 4ms/step - loss: 0.0036\n",
      "Epoch 49/150\n",
      "42/42 [==============================] - 0s 4ms/step - loss: 0.0032\n",
      "Epoch 50/150\n",
      "42/42 [==============================] - 0s 4ms/step - loss: 0.0043\n",
      "Epoch 51/150\n",
      "42/42 [==============================] - 0s 4ms/step - loss: 0.0036\n",
      "Epoch 52/150\n",
      "42/42 [==============================] - 0s 4ms/step - loss: 0.0036\n",
      "Epoch 53/150\n",
      "42/42 [==============================] - 0s 4ms/step - loss: 0.0030\n",
      "Epoch 54/150\n",
      "42/42 [==============================] - 0s 3ms/step - loss: 0.0032\n",
      "Epoch 55/150\n",
      "42/42 [==============================] - 0s 4ms/step - loss: 0.0033\n",
      "Epoch 56/150\n",
      "42/42 [==============================] - 0s 4ms/step - loss: 0.0030\n",
      "Epoch 57/150\n",
      "42/42 [==============================] - 0s 3ms/step - loss: 0.0027\n",
      "Epoch 58/150\n",
      "42/42 [==============================] - 0s 4ms/step - loss: 0.0033\n",
      "Epoch 59/150\n",
      "42/42 [==============================] - 0s 4ms/step - loss: 0.0032\n",
      "Epoch 60/150\n",
      "42/42 [==============================] - 0s 4ms/step - loss: 0.0024\n",
      "Epoch 61/150\n",
      "42/42 [==============================] - 0s 4ms/step - loss: 0.0029\n",
      "Epoch 62/150\n",
      "42/42 [==============================] - 0s 4ms/step - loss: 0.0036\n",
      "Epoch 63/150\n",
      "42/42 [==============================] - 0s 4ms/step - loss: 0.0035\n",
      "Epoch 64/150\n",
      "42/42 [==============================] - 0s 3ms/step - loss: 0.0028\n",
      "Epoch 65/150\n",
      "42/42 [==============================] - 0s 4ms/step - loss: 0.0024\n",
      "Epoch 66/150\n",
      "42/42 [==============================] - 0s 3ms/step - loss: 0.0026\n",
      "Epoch 67/150\n",
      "42/42 [==============================] - 0s 4ms/step - loss: 0.0031\n",
      "Epoch 68/150\n",
      "42/42 [==============================] - 0s 4ms/step - loss: 0.0036\n",
      "Epoch 69/150\n",
      "42/42 [==============================] - 0s 4ms/step - loss: 0.0031\n",
      "Epoch 70/150\n",
      "42/42 [==============================] - 0s 4ms/step - loss: 0.0025\n",
      "Epoch 71/150\n",
      "42/42 [==============================] - 0s 4ms/step - loss: 0.0041\n",
      "Epoch 72/150\n",
      "42/42 [==============================] - 0s 3ms/step - loss: 0.0025\n",
      "Epoch 73/150\n",
      "42/42 [==============================] - 0s 3ms/step - loss: 0.0032\n",
      "Epoch 74/150\n",
      "42/42 [==============================] - 0s 3ms/step - loss: 0.0032\n",
      "Epoch 75/150\n",
      "42/42 [==============================] - 0s 4ms/step - loss: 0.0030\n",
      "Epoch 76/150\n",
      "42/42 [==============================] - 0s 4ms/step - loss: 0.0030\n",
      "Epoch 77/150\n",
      "42/42 [==============================] - 0s 4ms/step - loss: 0.0028\n",
      "Epoch 78/150\n",
      "42/42 [==============================] - 0s 4ms/step - loss: 0.0034\n",
      "Epoch 79/150\n",
      "42/42 [==============================] - 0s 4ms/step - loss: 0.0027\n",
      "Epoch 80/150\n",
      "42/42 [==============================] - 0s 4ms/step - loss: 0.0023\n",
      "Epoch 81/150\n",
      "42/42 [==============================] - 0s 4ms/step - loss: 0.0026\n",
      "Epoch 82/150\n",
      "42/42 [==============================] - 0s 4ms/step - loss: 0.0032\n",
      "Epoch 83/150\n",
      "42/42 [==============================] - 0s 3ms/step - loss: 0.0034\n",
      "Epoch 84/150\n",
      "42/42 [==============================] - 0s 4ms/step - loss: 0.0027\n",
      "Epoch 85/150\n",
      "42/42 [==============================] - 0s 4ms/step - loss: 0.0025\n",
      "Epoch 86/150\n",
      "42/42 [==============================] - 0s 3ms/step - loss: 0.0029\n",
      "Epoch 87/150\n",
      "42/42 [==============================] - 0s 4ms/step - loss: 0.0041\n",
      "Epoch 88/150\n",
      "42/42 [==============================] - 0s 3ms/step - loss: 0.0028\n",
      "Epoch 89/150\n",
      "42/42 [==============================] - 0s 3ms/step - loss: 0.0022\n",
      "Epoch 90/150\n",
      "42/42 [==============================] - 0s 3ms/step - loss: 0.0024\n",
      "Epoch 91/150\n",
      "42/42 [==============================] - 0s 3ms/step - loss: 0.0023\n",
      "Epoch 92/150\n",
      "42/42 [==============================] - 0s 3ms/step - loss: 0.0023\n",
      "Epoch 93/150\n",
      "42/42 [==============================] - 0s 3ms/step - loss: 0.0022\n",
      "Epoch 94/150\n",
      "42/42 [==============================] - 0s 3ms/step - loss: 0.0021\n",
      "Epoch 95/150\n",
      "42/42 [==============================] - 0s 4ms/step - loss: 0.0021\n",
      "Epoch 96/150\n",
      "42/42 [==============================] - 0s 4ms/step - loss: 0.0023\n",
      "Epoch 97/150\n",
      "42/42 [==============================] - 0s 4ms/step - loss: 0.0021\n",
      "Epoch 98/150\n",
      "42/42 [==============================] - 0s 4ms/step - loss: 0.0024\n",
      "Epoch 99/150\n",
      "42/42 [==============================] - 0s 4ms/step - loss: 0.0021\n",
      "Epoch 100/150\n",
      "42/42 [==============================] - 0s 4ms/step - loss: 0.0023\n",
      "Epoch 101/150\n",
      "42/42 [==============================] - 0s 3ms/step - loss: 0.0021\n",
      "Epoch 102/150\n",
      "42/42 [==============================] - 0s 4ms/step - loss: 0.0021\n",
      "Epoch 103/150\n",
      "42/42 [==============================] - 0s 4ms/step - loss: 0.0027\n",
      "Epoch 104/150\n",
      "42/42 [==============================] - 0s 4ms/step - loss: 0.0026\n",
      "Epoch 105/150\n",
      "42/42 [==============================] - 0s 4ms/step - loss: 0.0021\n",
      "Epoch 106/150\n",
      "42/42 [==============================] - 0s 3ms/step - loss: 0.0025\n",
      "Epoch 107/150\n",
      "42/42 [==============================] - 0s 3ms/step - loss: 0.0024\n",
      "Epoch 108/150\n",
      "42/42 [==============================] - 0s 3ms/step - loss: 0.0021\n",
      "Epoch 109/150\n",
      "42/42 [==============================] - 0s 4ms/step - loss: 0.0025\n",
      "Epoch 110/150\n",
      "42/42 [==============================] - 0s 3ms/step - loss: 0.0028\n",
      "Epoch 111/150\n",
      "42/42 [==============================] - 0s 3ms/step - loss: 0.0026\n",
      "Epoch 112/150\n",
      "42/42 [==============================] - 0s 4ms/step - loss: 0.0026\n",
      "Epoch 113/150\n",
      "42/42 [==============================] - 0s 4ms/step - loss: 0.0022\n",
      "Epoch 114/150\n",
      "42/42 [==============================] - 0s 4ms/step - loss: 0.0022\n",
      "Epoch 115/150\n",
      "42/42 [==============================] - 0s 4ms/step - loss: 0.0020\n",
      "Epoch 116/150\n",
      "42/42 [==============================] - 0s 4ms/step - loss: 0.0027\n",
      "Epoch 117/150\n",
      "42/42 [==============================] - 0s 4ms/step - loss: 0.0024\n",
      "Epoch 118/150\n",
      "42/42 [==============================] - 0s 4ms/step - loss: 0.0020\n",
      "Epoch 119/150\n",
      "42/42 [==============================] - 0s 4ms/step - loss: 0.0023\n",
      "Epoch 120/150\n",
      "42/42 [==============================] - 0s 3ms/step - loss: 0.0021\n",
      "Epoch 121/150\n",
      "42/42 [==============================] - 0s 3ms/step - loss: 0.0025\n",
      "Epoch 122/150\n",
      "42/42 [==============================] - 0s 4ms/step - loss: 0.0033\n",
      "Epoch 123/150\n",
      "42/42 [==============================] - 0s 4ms/step - loss: 0.0021\n",
      "Epoch 124/150\n",
      "42/42 [==============================] - 0s 3ms/step - loss: 0.0021\n",
      "Epoch 125/150\n",
      "42/42 [==============================] - 0s 4ms/step - loss: 0.0023\n",
      "Epoch 126/150\n",
      "42/42 [==============================] - 0s 3ms/step - loss: 0.0034\n",
      "Epoch 127/150\n",
      "42/42 [==============================] - 0s 4ms/step - loss: 0.0030\n",
      "Epoch 128/150\n",
      "42/42 [==============================] - 0s 3ms/step - loss: 0.0024\n",
      "Epoch 129/150\n",
      "42/42 [==============================] - 0s 4ms/step - loss: 0.0020\n",
      "Epoch 130/150\n",
      "42/42 [==============================] - 0s 4ms/step - loss: 0.0031\n",
      "Epoch 131/150\n",
      "42/42 [==============================] - 0s 3ms/step - loss: 0.0021\n",
      "Epoch 132/150\n",
      "42/42 [==============================] - 0s 3ms/step - loss: 0.0025\n",
      "Epoch 133/150\n",
      "42/42 [==============================] - 0s 3ms/step - loss: 0.0021\n",
      "Epoch 134/150\n",
      "42/42 [==============================] - 0s 3ms/step - loss: 0.0022\n",
      "Epoch 135/150\n",
      "42/42 [==============================] - 0s 4ms/step - loss: 0.0022\n",
      "Epoch 136/150\n",
      "42/42 [==============================] - 0s 4ms/step - loss: 0.0022\n",
      "Epoch 137/150\n",
      "42/42 [==============================] - 0s 4ms/step - loss: 0.0024\n",
      "Epoch 138/150\n",
      "42/42 [==============================] - 0s 3ms/step - loss: 0.0021\n",
      "Epoch 139/150\n",
      "42/42 [==============================] - 0s 3ms/step - loss: 0.0020\n",
      "Epoch 140/150\n",
      "42/42 [==============================] - 0s 4ms/step - loss: 0.0022\n",
      "Epoch 141/150\n",
      "42/42 [==============================] - 0s 4ms/step - loss: 0.0019\n",
      "Epoch 142/150\n",
      "42/42 [==============================] - 0s 4ms/step - loss: 0.0020\n",
      "Epoch 143/150\n",
      "42/42 [==============================] - 0s 4ms/step - loss: 0.0021\n",
      "Epoch 144/150\n",
      "42/42 [==============================] - 0s 4ms/step - loss: 0.0020\n",
      "Epoch 145/150\n",
      "42/42 [==============================] - 0s 4ms/step - loss: 0.0019\n",
      "Epoch 146/150\n",
      "42/42 [==============================] - 0s 4ms/step - loss: 0.0019\n",
      "Epoch 147/150\n",
      "42/42 [==============================] - 0s 3ms/step - loss: 0.0024\n",
      "Epoch 148/150\n",
      "42/42 [==============================] - 0s 3ms/step - loss: 0.0020\n",
      "Epoch 149/150\n",
      "42/42 [==============================] - 0s 3ms/step - loss: 0.0024\n",
      "Epoch 150/150\n",
      "42/42 [==============================] - 0s 3ms/step - loss: 0.0020\n"
     ]
    },
    {
     "data": {
      "text/plain": [
       "<keras.callbacks.History at 0x20ade203af0>"
      ]
     },
     "execution_count": 10,
     "metadata": {},
     "output_type": "execute_result"
    }
   ],
   "source": [
    "model.fit(train_x,train_y,epochs=150,batch_size=2)"
   ]
  },
  {
   "cell_type": "code",
   "execution_count": 11,
   "metadata": {},
   "outputs": [
    {
     "name": "stdout",
     "output_type": "stream",
     "text": [
      "2/2 [==============================] - 0s 3ms/step\n"
     ]
    },
    {
     "data": {
      "text/plain": [
       "array([[361.45105],\n",
       "       [369.9575 ],\n",
       "       [370.16278],\n",
       "       [393.92023],\n",
       "       [408.58347],\n",
       "       [449.58133],\n",
       "       [503.4129 ],\n",
       "       [519.5526 ],\n",
       "       [483.0049 ],\n",
       "       [374.96338],\n",
       "       [338.43387],\n",
       "       [332.4475 ],\n",
       "       [366.68515],\n",
       "       [382.15073],\n",
       "       [384.38174],\n",
       "       [421.6957 ],\n",
       "       [449.17944],\n",
       "       [506.18738],\n",
       "       [546.54846],\n",
       "       [544.7227 ],\n",
       "       [469.14108],\n",
       "       [364.30646],\n",
       "       [344.66156],\n",
       "       [355.99814],\n",
       "       [401.69565],\n",
       "       [416.43475],\n",
       "       [423.75204],\n",
       "       [450.0323 ],\n",
       "       [493.61316],\n",
       "       [529.37695],\n",
       "       [570.5662 ],\n",
       "       [578.81396],\n",
       "       [494.04263],\n",
       "       [377.85992],\n",
       "       [361.27975],\n",
       "       [363.95148]], dtype=float32)"
      ]
     },
     "execution_count": 11,
     "metadata": {},
     "output_type": "execute_result"
    }
   ],
   "source": [
    "test_predict = model.predict(test_x)\n",
    "test_predict = scaler.inverse_transform(test_predict)\n",
    "test_predict"
   ]
  },
  {
   "cell_type": "code",
   "execution_count": 12,
   "metadata": {},
   "outputs": [
    {
     "name": "stdout",
     "output_type": "stream",
     "text": [
      "3/3 [==============================] - 0s 3ms/step\n"
     ]
    },
    {
     "data": {
      "text/plain": [
       "array([[129.1483 ],\n",
       "       [130.07918],\n",
       "       [135.43211],\n",
       "       [142.13962],\n",
       "       [143.66252],\n",
       "       [146.74492],\n",
       "       [160.93825],\n",
       "       [168.18906],\n",
       "       [158.16165],\n",
       "       [143.18979],\n",
       "       [131.66785],\n",
       "       [130.0939 ],\n",
       "       [144.71754],\n",
       "       [150.68248],\n",
       "       [155.02638],\n",
       "       [168.6226 ],\n",
       "       [169.76483],\n",
       "       [186.5514 ],\n",
       "       [195.79965],\n",
       "       [195.75374],\n",
       "       [179.70836],\n",
       "       [163.6603 ],\n",
       "       [159.28111],\n",
       "       [163.05891],\n",
       "       [176.29872],\n",
       "       [181.72987],\n",
       "       [189.55322],\n",
       "       [196.97234],\n",
       "       [200.37051],\n",
       "       [208.58324],\n",
       "       [230.43721],\n",
       "       [229.46037],\n",
       "       [219.89166],\n",
       "       [194.13046],\n",
       "       [189.14774],\n",
       "       [189.87003],\n",
       "       [203.98595],\n",
       "       [207.91763],\n",
       "       [210.86525],\n",
       "       [230.53188],\n",
       "       [243.77238],\n",
       "       [261.18085],\n",
       "       [271.44217],\n",
       "       [267.83945],\n",
       "       [246.55092],\n",
       "       [222.23085],\n",
       "       [217.84438],\n",
       "       [216.0257 ],\n",
       "       [229.29022],\n",
       "       [230.556  ],\n",
       "       [224.92747],\n",
       "       [241.6095 ],\n",
       "       [248.77197],\n",
       "       [271.22296],\n",
       "       [302.8525 ],\n",
       "       [317.04843],\n",
       "       [278.75092],\n",
       "       [236.54662],\n",
       "       [222.30286],\n",
       "       [224.74263],\n",
       "       [245.42586],\n",
       "       [254.4133 ],\n",
       "       [256.83896],\n",
       "       [274.7491 ],\n",
       "       [292.77368],\n",
       "       [319.20218],\n",
       "       [353.84976],\n",
       "       [356.26074],\n",
       "       [309.49466],\n",
       "       [271.50064],\n",
       "       [260.8067 ],\n",
       "       [263.65613],\n",
       "       [293.53372],\n",
       "       [300.53357],\n",
       "       [305.394  ],\n",
       "       [329.23273],\n",
       "       [349.04584],\n",
       "       [383.86325],\n",
       "       [424.61707],\n",
       "       [414.53778],\n",
       "       [368.13617],\n",
       "       [317.32718],\n",
       "       [300.87115],\n",
       "       [305.2725 ]], dtype=float32)"
      ]
     },
     "execution_count": 12,
     "metadata": {},
     "output_type": "execute_result"
    }
   ],
   "source": [
    "train_predict = model.predict(train_x)\n",
    "train_predict = scaler.inverse_transform(train_predict)\n",
    "train_predict"
   ]
  },
  {
   "cell_type": "code",
   "execution_count": 13,
   "metadata": {},
   "outputs": [
    {
     "data": {
      "text/plain": [
       "array([115.00000165, 125.99999813, 140.99999835, 135.00000194,\n",
       "       125.0000018 , 148.99999662, 170.00000245, 170.00000245,\n",
       "       157.99999122, 133.00000007, 113.99999611, 140.00000201,\n",
       "       145.00000209, 150.00000216, 177.99999151, 162.99999129,\n",
       "       171.99999511, 177.99999151, 199.00000655, 199.00000655,\n",
       "       184.00000633, 161.99999496, 145.99999842, 165.9999987 ,\n",
       "       170.99999878, 180.00000259, 192.99999173, 180.99999892,\n",
       "       182.99999158, 217.99999209, 230.00000331, 241.99999611,\n",
       "       209.00000669, 190.99999906, 171.99999511, 194.00000648,\n",
       "       195.99999914, 195.99999914, 235.99999971, 235.00000338,\n",
       "       229.00000698, 242.99999245, 263.99999827, 272.00000576,\n",
       "       236.99999604, 210.99999935, 180.00000259, 200.99999921,\n",
       "       204.00000662, 187.99999165, 235.00000338, 226.9999959 ,\n",
       "       234.00000705, 263.99999827, 302.00000619, 292.99998396,\n",
       "       258.9999982 , 229.00000698, 202.99999187, 229.00000698,\n",
       "       241.99999611, 232.9999923 , 267.00000568, 268.99999835,\n",
       "       270.00001309, 315.00001374, 363.99999971, 347.00000683,\n",
       "       312.00000633, 273.99999842, 236.99999604, 277.99998374,\n",
       "       283.99999856, 277.00000583, 317.0000064 , 313.00002108,\n",
       "       318.00002115, 373.99999986, 413.00002252, 405.00001504,\n",
       "       355.00001432, 305.99999151, 270.99999101, 305.99999151])"
      ]
     },
     "execution_count": 13,
     "metadata": {},
     "output_type": "execute_result"
    }
   ],
   "source": [
    "train_true = scaler.inverse_transform([train_y]).ravel()\n",
    "train_true"
   ]
  },
  {
   "cell_type": "code",
   "execution_count": 14,
   "metadata": {},
   "outputs": [
    {
     "data": {
      "image/png": "[encoded data removed]",
      "text/plain": [
       "<Figure size 640x480 with 1 Axes>"
      ]
     },
     "metadata": {},
     "output_type": "display_data"
    }
   ],
   "source": [
    "import matplotlib.pyplot as plt\n",
    "plt.plot(train_true,color='green')\n",
    "plt.plot(train_predict,color='red')\n",
    "plt.title(\"Prediction Graph on training data\")\n",
    "plt.show()"
   ]
  },
  {
   "cell_type": "code",
   "execution_count": 15,
   "metadata": {},
   "outputs": [
    {
     "name": "stdout",
     "output_type": "stream",
     "text": [
      "2/2 [==============================] - 0s 8ms/step\n"
     ]
    }
   ],
   "source": [
    "test_predict = model.predict(test_x)\n",
    "test_predict = scaler.inverse_transform(test_predict)\n"
   ]
  },
  {
   "cell_type": "code",
   "execution_count": 16,
   "metadata": {},
   "outputs": [],
   "source": [
    "test_true = scaler.inverse_transform([test_y]).ravel()"
   ]
  },
  {
   "cell_type": "code",
   "execution_count": 18,
   "metadata": {},
   "outputs": [
    {
     "data": {
      "image/png": "[encoded data removed]",
      "text/plain": [
       "<Figure size 640x480 with 1 Axes>"
      ]
     },
     "metadata": {},
     "output_type": "display_data"
    }
   ],
   "source": [
    "plt.plot(test_true,color='green')\n",
    "plt.plot(test_predict,color='red')\n",
    "plt.title(\"Prediction Graph on testing data\")\n",
    "plt.show()"
   ]
  },
  {
   "cell_type": "code",
   "execution_count": 19,
   "metadata": {},
   "outputs": [
    {
     "data": {
      "text/plain": [
       "(36, 12, 1)"
      ]
     },
     "execution_count": 19,
     "metadata": {},
     "output_type": "execute_result"
    }
   ],
   "source": [
    "test_x.shape"
   ]
  },
  {
   "cell_type": "code",
   "execution_count": 20,
   "metadata": {},
   "outputs": [
    {
     "data": {
      "text/plain": [
       "(84, 12, 1)"
      ]
     },
     "execution_count": 20,
     "metadata": {},
     "output_type": "execute_result"
    }
   ],
   "source": [
    "train_x.shape"
   ]
  }
 ],
 "metadata": {
  "kernelspec": {
   "display_name": "Python 3",
   "language": "python",
   "name": "python3"
  },
  "language_info": {
   "codemirror_mode": {
    "name": "ipython",
    "version": 3
   },
   "file_extension": ".py",
   "mimetype": "text/x-python",
   "name": "python",
   "nbconvert_exporter": "python",
   "pygments_lexer": "ipython3",
   "version": "3.10.14"
  }
 },
 "nbformat": 4,
 "nbformat_minor": 2
}
