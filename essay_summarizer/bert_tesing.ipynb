{
 "cells": [
  {
   "cell_type": "code",
   "execution_count": 2,
   "metadata": {},
   "outputs": [],
   "source": [
    "import tensorflow as tf \n",
    "from transformers import TFBertModel, BertTokenizer\n",
    "from tensorflow.keras.models import Sequential\n",
    "from tensorflow.keras.layers import LSTM, Dense, Dropout"
   ]
  },
  {
   "cell_type": "code",
   "execution_count": 3,
   "metadata": {},
   "outputs": [
    {
     "name": "stdout",
     "output_type": "stream",
     "text": [
      "WARNING:tensorflow:From d:\\ML_python\\Tensorflow\\tfvenv\\Lib\\site-packages\\keras\\src\\backend.py:873: The name tf.get_default_graph is deprecated. Please use tf.compat.v1.get_default_graph instead.\n",
      "\n"
     ]
    },
    {
     "name": "stderr",
     "output_type": "stream",
     "text": [
      "Some weights of the PyTorch model were not used when initializing the TF 2.0 model TFBertModel: ['cls.predictions.transform.LayerNorm.bias', 'cls.predictions.transform.dense.weight', 'cls.predictions.transform.dense.bias', 'cls.predictions.bias', 'cls.seq_relationship.weight', 'cls.predictions.transform.LayerNorm.weight', 'cls.seq_relationship.bias']\n",
      "- This IS expected if you are initializing TFBertModel from a PyTorch model trained on another task or with another architecture (e.g. initializing a TFBertForSequenceClassification model from a BertForPreTraining model).\n",
      "- This IS NOT expected if you are initializing TFBertModel from a PyTorch model that you expect to be exactly identical (e.g. initializing a TFBertForSequenceClassification model from a BertForSequenceClassification model).\n",
      "All the weights of TFBertModel were initialized from the PyTorch model.\n",
      "If your task is similar to the task the model of the checkpoint was trained on, you can already use TFBertModel for predictions without further training.\n"
     ]
    }
   ],
   "source": [
    "tokenizer = BertTokenizer.from_pretrained('bert-base-uncased')\n",
    "embedder = TFBertModel.from_pretrained('bert-base-uncased')"
   ]
  },
  {
   "cell_type": "code",
   "execution_count": 4,
   "metadata": {},
   "outputs": [],
   "source": [
    "text = [\"Hi I am Rohit How are you ?\",\"Can you please hold my hand ?\"]"
   ]
  },
  {
   "cell_type": "code",
   "execution_count": 5,
   "metadata": {},
   "outputs": [
    {
     "data": {
      "text/plain": [
       "<tf.Tensor: shape=(2, 11), dtype=int32, numpy=\n",
       "array([[  101,  7632,  1045,  2572, 20996, 16584,  2129,  2024,  2017,\n",
       "         1029,   102],\n",
       "       [  101,  2064,  2017,  3531,  2907,  2026,  2192,  1029,   102,\n",
       "            0,     0]])>"
      ]
     },
     "execution_count": 5,
     "metadata": {},
     "output_type": "execute_result"
    }
   ],
   "source": [
    "tokenized_objs = tokenizer(text,return_tensors='tf',padding=True)\n",
    "encoded_ip = tokenized_objs.input_ids\n",
    "encoded_ip"
   ]
  },
  {
   "cell_type": "code",
   "execution_count": 10,
   "metadata": {},
   "outputs": [
    {
     "data": {
      "text/plain": [
       "{'input_ids': <tf.Tensor: shape=(2, 11), dtype=int32, numpy=\n",
       "array([[  101,  7632,  1045,  2572, 20996, 16584,  2129,  2024,  2017,\n",
       "         1029,   102],\n",
       "       [  101,  2064,  2017,  3531,  2907,  2026,  2192,  1029,   102,\n",
       "            0,     0]])>, 'token_type_ids': <tf.Tensor: shape=(2, 11), dtype=int32, numpy=\n",
       "array([[0, 0, 0, 0, 0, 0, 0, 0, 0, 0, 0],\n",
       "       [0, 0, 0, 0, 0, 0, 0, 0, 0, 0, 0]])>, 'attention_mask': <tf.Tensor: shape=(2, 11), dtype=int32, numpy=\n",
       "array([[1, 1, 1, 1, 1, 1, 1, 1, 1, 1, 1],\n",
       "       [1, 1, 1, 1, 1, 1, 1, 1, 1, 0, 0]])>}"
      ]
     },
     "execution_count": 10,
     "metadata": {},
     "output_type": "execute_result"
    }
   ],
   "source": [
    "tokenized_objs"
   ]
  },
  {
   "cell_type": "code",
   "execution_count": 6,
   "metadata": {},
   "outputs": [],
   "source": [
    "embedded_op = embedder(encoded_ip)\n"
   ]
  },
  {
   "cell_type": "code",
   "execution_count": 7,
   "metadata": {},
   "outputs": [
    {
     "data": {
      "text/plain": [
       "TFBaseModelOutputWithPoolingAndCrossAttentions(last_hidden_state=<tf.Tensor: shape=(2, 11, 768), dtype=float32, numpy=\n",
       "array([[[-4.55153465e-01, -3.31224859e-01, -1.90732002e-01, ...,\n",
       "         -2.79968679e-01,  5.56606174e-01,  5.09237647e-01],\n",
       "        [ 2.99350202e-01,  1.14764914e-01,  1.72971949e-01, ...,\n",
       "         -1.80919990e-01,  1.04944754e+00, -2.63404816e-01],\n",
       "        [-4.81928349e-01, -4.06480402e-01, -4.78375852e-02, ...,\n",
       "         -2.84271210e-01,  7.18219221e-01,  7.12675750e-02],\n",
       "        ...,\n",
       "        [-3.56820732e-01, -1.45313346e+00,  7.87590668e-02, ...,\n",
       "         -1.97038949e-01,  6.87917471e-01, -5.80783427e-01],\n",
       "        [-3.81709218e-01, -1.25138116e+00, -9.59350944e-01, ...,\n",
       "          1.00694433e-01,  1.89323992e-01,  1.59343049e-01],\n",
       "        [ 5.52259803e-01, -3.03290486e-01, -2.70610303e-01, ...,\n",
       "          1.19717807e-01, -3.54195833e-01, -2.24331275e-01]],\n",
       "\n",
       "       [[ 3.56237516e-02, -2.81747244e-02,  4.39100564e-02, ...,\n",
       "         -2.73295879e-01,  1.41104534e-01,  3.12666714e-01],\n",
       "        [ 3.25955361e-01,  4.24369216e-01,  3.67927313e-01, ...,\n",
       "          1.84063111e-02, -7.31061697e-02, -1.99874908e-01],\n",
       "        [-7.42752850e-01, -4.05031145e-01,  8.73116255e-01, ...,\n",
       "         -1.57599539e-01, -8.60095501e-01, -3.29276770e-01],\n",
       "        ...,\n",
       "        [ 7.44627595e-01,  3.78535762e-02, -2.44050950e-01, ...,\n",
       "          8.17521513e-02, -9.36235905e-01, -3.63072395e-01],\n",
       "        [ 1.09370530e-01,  1.21217556e-01,  8.86287868e-01, ...,\n",
       "          1.12980500e-01,  6.67972416e-02, -1.61264583e-01],\n",
       "        [-2.91931659e-01, -2.63332844e-01,  3.65886927e-01, ...,\n",
       "          9.53581780e-02,  1.43687055e-03, -8.32155496e-02]]],\n",
       "      dtype=float32)>, pooler_output=<tf.Tensor: shape=(2, 768), dtype=float32, numpy=\n",
       "array([[-0.91219264, -0.61218685, -0.9788873 , ..., -0.9460341 ,\n",
       "        -0.7960423 ,  0.8989942 ],\n",
       "       [-0.85701895, -0.26258326, -0.10938799, ...,  0.31398237,\n",
       "        -0.70387363,  0.8820532 ]], dtype=float32)>, past_key_values=None, hidden_states=None, attentions=None, cross_attentions=None)"
      ]
     },
     "execution_count": 7,
     "metadata": {},
     "output_type": "execute_result"
    }
   ],
   "source": [
    "embedded_op"
   ]
  },
  {
   "cell_type": "code",
   "execution_count": 16,
   "metadata": {},
   "outputs": [
    {
     "data": {
      "text/plain": [
       "<tf.Tensor: shape=(2, 11, 768), dtype=float32, numpy=\n",
       "array([[[-4.55153465e-01, -3.31224859e-01, -1.90732002e-01, ...,\n",
       "         -2.79968679e-01,  5.56606174e-01,  5.09237647e-01],\n",
       "        [ 2.99350202e-01,  1.14764914e-01,  1.72971949e-01, ...,\n",
       "         -1.80919990e-01,  1.04944754e+00, -2.63404816e-01],\n",
       "        [-4.81928349e-01, -4.06480402e-01, -4.78375852e-02, ...,\n",
       "         -2.84271210e-01,  7.18219221e-01,  7.12675750e-02],\n",
       "        ...,\n",
       "        [-3.56820732e-01, -1.45313346e+00,  7.87590668e-02, ...,\n",
       "         -1.97038949e-01,  6.87917471e-01, -5.80783427e-01],\n",
       "        [-3.81709218e-01, -1.25138116e+00, -9.59350944e-01, ...,\n",
       "          1.00694433e-01,  1.89323992e-01,  1.59343049e-01],\n",
       "        [ 5.52259803e-01, -3.03290486e-01, -2.70610303e-01, ...,\n",
       "          1.19717807e-01, -3.54195833e-01, -2.24331275e-01]],\n",
       "\n",
       "       [[ 3.56237516e-02, -2.81747244e-02,  4.39100564e-02, ...,\n",
       "         -2.73295879e-01,  1.41104534e-01,  3.12666714e-01],\n",
       "        [ 3.25955361e-01,  4.24369216e-01,  3.67927313e-01, ...,\n",
       "          1.84063111e-02, -7.31061697e-02, -1.99874908e-01],\n",
       "        [-7.42752850e-01, -4.05031145e-01,  8.73116255e-01, ...,\n",
       "         -1.57599539e-01, -8.60095501e-01, -3.29276770e-01],\n",
       "        ...,\n",
       "        [ 7.44627595e-01,  3.78535762e-02, -2.44050950e-01, ...,\n",
       "          8.17521513e-02, -9.36235905e-01, -3.63072395e-01],\n",
       "        [ 1.09370530e-01,  1.21217556e-01,  8.86287868e-01, ...,\n",
       "          1.12980500e-01,  6.67972416e-02, -1.61264583e-01],\n",
       "        [-2.91931659e-01, -2.63332844e-01,  3.65886927e-01, ...,\n",
       "          9.53581780e-02,  1.43687055e-03, -8.32155496e-02]]],\n",
       "      dtype=float32)>"
      ]
     },
     "execution_count": 16,
     "metadata": {},
     "output_type": "execute_result"
    }
   ],
   "source": [
    "embedded_op.last_hidden_state"
   ]
  },
  {
   "cell_type": "code",
   "execution_count": 6,
   "metadata": {},
   "outputs": [
    {
     "data": {
      "text/plain": [
       "TensorShape([2, 768])"
      ]
     },
     "execution_count": 6,
     "metadata": {},
     "output_type": "execute_result"
    }
   ],
   "source": [
    "embedded_op[1].shape"
   ]
  },
  {
   "cell_type": "code",
   "execution_count": 7,
   "metadata": {},
   "outputs": [],
   "source": [
    "bert_op = embedded_op[0]"
   ]
  },
  {
   "cell_type": "code",
   "execution_count": 8,
   "metadata": {},
   "outputs": [
    {
     "data": {
      "text/plain": [
       "TensorShape([2, 11, 768])"
      ]
     },
     "execution_count": 8,
     "metadata": {},
     "output_type": "execute_result"
    }
   ],
   "source": [
    "bert_op.shape"
   ]
  },
  {
   "cell_type": "code",
   "execution_count": 9,
   "metadata": {},
   "outputs": [
    {
     "data": {
      "text/plain": [
       "<tf.Tensor: shape=(2, 768), dtype=float32, numpy=\n",
       "array([[-0.45515347, -0.33122486, -0.190732  , ..., -0.27996868,\n",
       "         0.5566062 ,  0.50923765],\n",
       "       [ 0.03562375, -0.02817472,  0.04391006, ..., -0.27329588,\n",
       "         0.14110453,  0.3126667 ]], dtype=float32)>"
      ]
     },
     "execution_count": 9,
     "metadata": {},
     "output_type": "execute_result"
    }
   ],
   "source": [
    "pooler_output = bert_op[:, 0, :]\n",
    "pooler_output"
   ]
  },
  {
   "cell_type": "code",
   "execution_count": 10,
   "metadata": {},
   "outputs": [
    {
     "data": {
      "text/plain": [
       "<tf.Tensor: shape=(2, 768), dtype=float32, numpy=\n",
       "array([[-0.91219264, -0.61218685, -0.9788873 , ..., -0.9460341 ,\n",
       "        -0.7960423 ,  0.8989942 ],\n",
       "       [-0.85701895, -0.26258326, -0.10938799, ...,  0.31398237,\n",
       "        -0.70387363,  0.8820532 ]], dtype=float32)>"
      ]
     },
     "execution_count": 10,
     "metadata": {},
     "output_type": "execute_result"
    }
   ],
   "source": [
    "embedded_op[1]"
   ]
  },
  {
   "cell_type": "code",
   "execution_count": 17,
   "metadata": {},
   "outputs": [
    {
     "name": "stdout",
     "output_type": "stream",
     "text": [
      "Model: \"model\"\n",
      "_________________________________________________________________\n",
      " Layer (type)                Output Shape              Param #   \n",
      "=================================================================\n",
      " input_ids (InputLayer)      [(None, 120)]             0         \n",
      "                                                                 \n",
      " tf_bert_model (TFBertModel  TFBaseModelOutputWithPo   109482240 \n",
      " )                           olingAndCrossAttentions             \n",
      "                             (last_hidden_state=(Non             \n",
      "                             e, 120, 768),                       \n",
      "                              pooler_output=(None, 7             \n",
      "                             68),                                \n",
      "                              past_key_values=None,              \n",
      "                             hidden_states=None, att             \n",
      "                             entions=None, cross_att             \n",
      "                             entions=None)                       \n",
      "                                                                 \n",
      " sequential_2 (Sequential)   (None, 1)                 3665501   \n",
      "                                                                 \n",
      "=================================================================\n",
      "Total params: 113147741 (431.62 MB)\n",
      "Trainable params: 113147741 (431.62 MB)\n",
      "Non-trainable params: 0 (0.00 Byte)\n",
      "_________________________________________________________________\n"
     ]
    }
   ],
   "source": [
    "# input layer which takes input ids generated by the bert tokenizer\n",
    "input_ids = tf.keras.layers.Input(shape=(120,), dtype=tf.int32, name=\"input_ids\")\n",
    "\n",
    "# Bert Embedding layer which will create a dense vector of each token coming from input layer\n",
    "embedded_output = embedder(input_ids)[0]\n",
    "\n",
    "# Regression head using LSTM \n",
    "regression_head = Sequential([\n",
    "    LSTM(units=500,return_sequences=True),\n",
    "    LSTM(units=250),\n",
    "    Dropout(0.15),\n",
    "    Dense(units=500,activation='relu'),\n",
    "    Dropout(0.1),\n",
    "    Dense(units=500,activation='tanh'),\n",
    "    Dense(units=1,activation='linear')\n",
    "])\n",
    "\n",
    "#final output after passing through the regression head\n",
    "final_output = regression_head(embedded_output)\n",
    "\n",
    "# defining the final model\n",
    "bert_lstm_model = tf.keras.models.Model(inputs=[input_ids],outputs=final_output)\n",
    "\n",
    "bert_lstm_model.summary()"
   ]
  },
  {
   "cell_type": "code",
   "execution_count": 18,
   "metadata": {},
   "outputs": [
    {
     "data": {
      "image/png": "[encoded data removed]",
      "text/plain": [
       "<IPython.core.display.Image object>"
      ]
     },
     "execution_count": 18,
     "metadata": {},
     "output_type": "execute_result"
    }
   ],
   "source": [
    "tf.keras.utils.plot_model(bert_lstm_model)"
   ]
  },
  {
   "cell_type": "code",
   "execution_count": null,
   "metadata": {},
   "outputs": [],
   "source": []
  }
 ],
 "metadata": {
  "kernelspec": {
   "display_name": "ML-KERNEL",
   "language": "python",
   "name": "ml-kernel"
  },
  "language_info": {
   "codemirror_mode": {
    "name": "ipython",
    "version": 3
   },
   "file_extension": ".py",
   "mimetype": "text/x-python",
   "name": "python",
   "nbconvert_exporter": "python",
   "pygments_lexer": "ipython3",
   "version": "3.11.5"
  }
 },
 "nbformat": 4,
 "nbformat_minor": 2
}
